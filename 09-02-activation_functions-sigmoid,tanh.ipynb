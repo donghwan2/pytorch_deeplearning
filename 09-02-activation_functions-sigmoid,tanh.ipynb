{
 "cells": [
  {
   "cell_type": "markdown",
   "metadata": {},
   "source": [
    "# Activation Functions"
   ]
  },
  {
   "cell_type": "code",
   "execution_count": 1,
   "metadata": {},
   "outputs": [],
   "source": [
    "import torch\n",
    "import torch.nn as nn\n",
    "\n",
    "from matplotlib import pyplot as plt"
   ]
  },
  {
   "cell_type": "code",
   "execution_count": 2,
   "metadata": {},
   "outputs": [
    {
     "data": {
      "text/plain": [
       "tensor([-17.7585, -17.4306, -16.5326, -16.1478, -15.3367, -13.7607, -12.8314,\n",
       "        -12.6535, -12.6222, -11.6724, -11.2042, -10.8128, -10.6521,  -8.9533,\n",
       "         -8.7046,  -8.0996,  -7.8011,  -7.7088,  -7.2046,  -6.8951,  -6.8372,\n",
       "         -6.5971,  -5.6647,  -5.0824,  -4.6938,  -4.3538,  -4.2632,  -4.2528,\n",
       "         -4.0670,  -4.0661,  -3.7194,  -3.7139,  -3.3519,  -3.1482,  -2.7422,\n",
       "         -2.6742,  -2.2050,  -2.0306,  -2.0197,  -1.9317,  -1.5391,  -1.4045,\n",
       "         -1.3326,  -1.2924,  -1.0767,  -0.1840,   0.4463,   0.4598,   0.6618,\n",
       "          0.8591,   1.0930,   1.1257,   1.2016,   1.5368,   1.6731,   1.7454,\n",
       "          1.8725,   1.9031,   1.9779,   2.2743,   2.6506,   2.6557,   3.0214,\n",
       "          3.6668,   3.9727,   4.2007,   5.3204,   5.4217,   5.5059,   5.5551,\n",
       "          5.6671,   5.7211,   6.6444,   6.7322,   7.2777,   7.3283,   7.9494,\n",
       "          8.1686,   8.5038,   8.6066,   8.7610,  10.0850,  10.1221,  10.5500,\n",
       "         10.6574,  10.6683,  10.7713,  10.7737,  11.6285,  12.2372,  12.6815,\n",
       "         13.5762,  15.6469,  15.9877,  16.2435,  17.2731,  17.8448,  17.9529,\n",
       "         18.8145,  22.3322])"
      ]
     },
     "execution_count": 2,
     "metadata": {},
     "output_type": "execute_result"
    }
   ],
   "source": [
    "# torch.randn() : 정규분포를 가지는 랜덤값 텐서를 만들어줌\n",
    "x = torch.sort(torch.randn(100) * 10)[0]\n",
    "\n",
    "x"
   ]
  },
  {
   "cell_type": "markdown",
   "metadata": {},
   "source": [
    "# 1. Sigmoid\n",
    "\n",
    "$$\n",
    "\\sigma(x)=\\frac{1}{1+e^{-x}}\n",
    "$$"
   ]
  },
  {
   "cell_type": "markdown",
   "metadata": {},
   "source": [
    "### (1) nn.Sigmoid() : sigmoid 객체를 생성"
   ]
  },
  {
   "cell_type": "code",
   "execution_count": 8,
   "metadata": {},
   "outputs": [
    {
     "name": "stdout",
     "output_type": "stream",
     "text": [
      "tensor([1.9390e-08, 2.6915e-08, 6.6067e-08, 9.7072e-08, 2.1845e-07, 1.0563e-06,\n",
      "        2.6755e-06, 3.1963e-06, 3.2980e-06, 8.5255e-06, 1.3617e-05, 2.0140e-05,\n",
      "        2.3651e-05, 1.2930e-04, 1.6579e-04, 3.0358e-04, 4.0913e-04, 4.4864e-04,\n",
      "        7.4259e-04, 1.0117e-03, 1.0719e-03, 1.3624e-03, 3.4542e-03, 6.1666e-03,\n",
      "        9.0684e-03, 1.2695e-02, 1.3882e-02, 1.4025e-02, 1.6840e-02, 1.6854e-02,\n",
      "        2.3674e-02, 2.3803e-02, 3.3834e-02, 4.1162e-02, 6.0529e-02, 6.4513e-02,\n",
      "        9.9300e-02, 1.1603e-01, 1.1715e-01, 1.2657e-01, 1.7667e-01, 1.9710e-01,\n",
      "        2.0873e-01, 2.1545e-01, 2.5412e-01, 4.5414e-01, 6.0977e-01, 6.1297e-01,\n",
      "        6.5967e-01, 7.0246e-01, 7.4894e-01, 7.5505e-01, 7.6880e-01, 8.2300e-01,\n",
      "        8.4198e-01, 8.5137e-01, 8.6675e-01, 8.7024e-01, 8.7846e-01, 9.0673e-01,\n",
      "        9.3405e-01, 9.3436e-01, 9.5353e-01, 9.7508e-01, 9.8153e-01, 9.8524e-01,\n",
      "        9.9513e-01, 9.9560e-01, 9.9595e-01, 9.9615e-01, 9.9655e-01, 9.9673e-01,\n",
      "        9.9870e-01, 9.9881e-01, 9.9931e-01, 9.9934e-01, 9.9965e-01, 9.9972e-01,\n",
      "        9.9980e-01, 9.9982e-01, 9.9984e-01, 9.9996e-01, 9.9996e-01, 9.9997e-01,\n",
      "        9.9998e-01, 9.9998e-01, 9.9998e-01, 9.9998e-01, 9.9999e-01, 1.0000e+00,\n",
      "        1.0000e+00, 1.0000e+00, 1.0000e+00, 1.0000e+00, 1.0000e+00, 1.0000e+00,\n",
      "        1.0000e+00, 1.0000e+00, 1.0000e+00, 1.0000e+00])\n"
     ]
    }
   ],
   "source": [
    "import torch.nn as nn\n",
    "act = nn.Sigmoid()\n",
    "\n",
    "# 데이터를 sigmoid 함수에 통과시키면 0~1 값들이 나온다.\n",
    "print(act(x))"
   ]
  },
  {
   "cell_type": "markdown",
   "metadata": {},
   "source": [
    "### (2) torch.sigmoid() : 객체 생성 없이 잠시 함수로 사용"
   ]
  },
  {
   "cell_type": "code",
   "execution_count": 9,
   "metadata": {
    "scrolled": true
   },
   "outputs": [
    {
     "name": "stdout",
     "output_type": "stream",
     "text": [
      "tensor([1.9390e-08, 2.6915e-08, 6.6067e-08, 9.7072e-08, 2.1845e-07, 1.0563e-06,\n",
      "        2.6755e-06, 3.1963e-06, 3.2980e-06, 8.5255e-06, 1.3617e-05, 2.0140e-05,\n",
      "        2.3651e-05, 1.2930e-04, 1.6579e-04, 3.0358e-04, 4.0913e-04, 4.4864e-04,\n",
      "        7.4259e-04, 1.0117e-03, 1.0719e-03, 1.3624e-03, 3.4542e-03, 6.1666e-03,\n",
      "        9.0684e-03, 1.2695e-02, 1.3882e-02, 1.4025e-02, 1.6840e-02, 1.6854e-02,\n",
      "        2.3674e-02, 2.3803e-02, 3.3834e-02, 4.1162e-02, 6.0529e-02, 6.4513e-02,\n",
      "        9.9300e-02, 1.1603e-01, 1.1715e-01, 1.2657e-01, 1.7667e-01, 1.9710e-01,\n",
      "        2.0873e-01, 2.1545e-01, 2.5412e-01, 4.5414e-01, 6.0977e-01, 6.1297e-01,\n",
      "        6.5967e-01, 7.0246e-01, 7.4894e-01, 7.5505e-01, 7.6880e-01, 8.2300e-01,\n",
      "        8.4198e-01, 8.5137e-01, 8.6675e-01, 8.7024e-01, 8.7846e-01, 9.0673e-01,\n",
      "        9.3405e-01, 9.3436e-01, 9.5353e-01, 9.7508e-01, 9.8153e-01, 9.8524e-01,\n",
      "        9.9513e-01, 9.9560e-01, 9.9595e-01, 9.9615e-01, 9.9655e-01, 9.9673e-01,\n",
      "        9.9870e-01, 9.9881e-01, 9.9931e-01, 9.9934e-01, 9.9965e-01, 9.9972e-01,\n",
      "        9.9980e-01, 9.9982e-01, 9.9984e-01, 9.9996e-01, 9.9996e-01, 9.9997e-01,\n",
      "        9.9998e-01, 9.9998e-01, 9.9998e-01, 9.9998e-01, 9.9999e-01, 1.0000e+00,\n",
      "        1.0000e+00, 1.0000e+00, 1.0000e+00, 1.0000e+00, 1.0000e+00, 1.0000e+00,\n",
      "        1.0000e+00, 1.0000e+00, 1.0000e+00, 1.0000e+00])\n"
     ]
    }
   ],
   "source": [
    "print(torch.sigmoid(x))"
   ]
  },
  {
   "cell_type": "code",
   "execution_count": 10,
   "metadata": {},
   "outputs": [
    {
     "data": {
      "image/png": "[encoded data removed]",
      "text/plain": [
       "<Figure size 432x288 with 1 Axes>"
      ]
     },
     "metadata": {
      "needs_background": "light"
     },
     "output_type": "display_data"
    }
   ],
   "source": [
    "# 데이터에 따른 sigmoid 그래프 확인 -> (0~1)\n",
    "plt.plot(x.numpy(), torch.sigmoid(x).numpy())\n",
    "plt.show()"
   ]
  },
  {
   "cell_type": "markdown",
   "metadata": {},
   "source": [
    "# 2. Hypoerbolic Tangent (TanH)\n",
    "\n",
    "$$\n",
    "\\text{tanh}(x)=\\frac{e^x-e^{-x}}{e^x+e^{-x}}\n",
    "$$"
   ]
  },
  {
   "cell_type": "markdown",
   "metadata": {},
   "source": [
    "### (1) nn.Tanh()"
   ]
  },
  {
   "cell_type": "code",
   "execution_count": 11,
   "metadata": {},
   "outputs": [
    {
     "name": "stdout",
     "output_type": "stream",
     "text": [
      "tensor([-1.0000, -1.0000, -1.0000, -1.0000, -1.0000, -1.0000, -1.0000, -1.0000,\n",
      "        -1.0000, -1.0000, -1.0000, -1.0000, -1.0000, -1.0000, -1.0000, -1.0000,\n",
      "        -1.0000, -1.0000, -1.0000, -1.0000, -1.0000, -1.0000, -1.0000, -0.9999,\n",
      "        -0.9998, -0.9997, -0.9996, -0.9996, -0.9994, -0.9994, -0.9988, -0.9988,\n",
      "        -0.9976, -0.9963, -0.9917, -0.9905, -0.9760, -0.9661, -0.9654, -0.9589,\n",
      "        -0.9120, -0.8863, -0.8699, -0.8597, -0.7920, -0.1819,  0.4189,  0.4299,\n",
      "         0.5796,  0.6958,  0.7980,  0.8096,  0.8341,  0.9116,  0.9320,  0.9409,\n",
      "         0.9538,  0.9565,  0.9624,  0.9791,  0.9901,  0.9902,  0.9953,  0.9987,\n",
      "         0.9993,  0.9996,  1.0000,  1.0000,  1.0000,  1.0000,  1.0000,  1.0000,\n",
      "         1.0000,  1.0000,  1.0000,  1.0000,  1.0000,  1.0000,  1.0000,  1.0000,\n",
      "         1.0000,  1.0000,  1.0000,  1.0000,  1.0000,  1.0000,  1.0000,  1.0000,\n",
      "         1.0000,  1.0000,  1.0000,  1.0000,  1.0000,  1.0000,  1.0000,  1.0000,\n",
      "         1.0000,  1.0000,  1.0000,  1.0000])\n"
     ]
    }
   ],
   "source": [
    "import torch.nn as nn\n",
    "act = nn.Tanh()\n",
    "print(act(x))"
   ]
  },
  {
   "cell_type": "markdown",
   "metadata": {},
   "source": [
    "### (2) torch.tanh()"
   ]
  },
  {
   "cell_type": "code",
   "execution_count": 12,
   "metadata": {},
   "outputs": [
    {
     "name": "stdout",
     "output_type": "stream",
     "text": [
      "tensor([-1.0000, -1.0000, -1.0000, -1.0000, -1.0000, -1.0000, -1.0000, -1.0000,\n",
      "        -1.0000, -1.0000, -1.0000, -1.0000, -1.0000, -1.0000, -1.0000, -1.0000,\n",
      "        -1.0000, -1.0000, -1.0000, -1.0000, -1.0000, -1.0000, -1.0000, -0.9999,\n",
      "        -0.9998, -0.9997, -0.9996, -0.9996, -0.9994, -0.9994, -0.9988, -0.9988,\n",
      "        -0.9976, -0.9963, -0.9917, -0.9905, -0.9760, -0.9661, -0.9654, -0.9589,\n",
      "        -0.9120, -0.8863, -0.8699, -0.8597, -0.7920, -0.1819,  0.4189,  0.4299,\n",
      "         0.5796,  0.6958,  0.7980,  0.8096,  0.8341,  0.9116,  0.9320,  0.9409,\n",
      "         0.9538,  0.9565,  0.9624,  0.9791,  0.9901,  0.9902,  0.9953,  0.9987,\n",
      "         0.9993,  0.9996,  1.0000,  1.0000,  1.0000,  1.0000,  1.0000,  1.0000,\n",
      "         1.0000,  1.0000,  1.0000,  1.0000,  1.0000,  1.0000,  1.0000,  1.0000,\n",
      "         1.0000,  1.0000,  1.0000,  1.0000,  1.0000,  1.0000,  1.0000,  1.0000,\n",
      "         1.0000,  1.0000,  1.0000,  1.0000,  1.0000,  1.0000,  1.0000,  1.0000,\n",
      "         1.0000,  1.0000,  1.0000,  1.0000])\n"
     ]
    }
   ],
   "source": [
    "print(torch.tanh(x))"
   ]
  },
  {
   "cell_type": "code",
   "execution_count": 13,
   "metadata": {},
   "outputs": [
    {
     "data": {
      "image/png": "[encoded data removed]",
      "text/plain": [
       "<Figure size 432x288 with 1 Axes>"
      ]
     },
     "metadata": {
      "needs_background": "light"
     },
     "output_type": "display_data"
    }
   ],
   "source": [
    "# 데이터에 따른 tanh 결과 그래프 확인 -> (-1~1 )\n",
    "plt.plot(x.numpy(), torch.tanh(x).numpy())\n",
    "plt.show()"
   ]
  },
  {
   "cell_type": "code",
   "execution_count": null,
   "metadata": {},
   "outputs": [],
   "source": []
  }
 ],
 "metadata": {
  "kernelspec": {
   "display_name": "Python 3",
   "language": "python",
   "name": "python3"
  },
  "language_info": {
   "codemirror_mode": {
    "name": "ipython",
    "version": 3
   },
   "file_extension": ".py",
   "mimetype": "text/x-python",
   "name": "python",
   "nbconvert_exporter": "python",
   "pygments_lexer": "ipython3",
   "version": "3.7.6"
  }
 },
 "nbformat": 4,
 "nbformat_minor": 2
}
